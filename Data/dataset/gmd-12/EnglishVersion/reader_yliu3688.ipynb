{
 "cells": [
  {
   "cell_type": "code",
   "execution_count": 1,
   "metadata": {},
   "outputs": [],
   "source": [
    "import pickle"
   ]
  },
  {
   "cell_type": "code",
   "execution_count": 2,
   "metadata": {},
   "outputs": [],
   "source": [
    "#print train data information\n",
    "with open('train.pk','rb') as f:\n",
    "    train_data = pickle.load(f)"
   ]
  },
  {
   "cell_type": "code",
   "execution_count": 3,
   "metadata": {},
   "outputs": [
    {
     "name": "stdout",
     "output_type": "stream",
     "text": [
      "<class 'list'> 1912\n"
     ]
    }
   ],
   "source": [
    "train_data_type = type(train_data)\n",
    "train_data_length = len(train_data)\n",
    "print(train_data_type, train_data_length)"
   ]
  },
  {
   "cell_type": "code",
   "execution_count": 4,
   "metadata": {},
   "outputs": [
    {
     "data": {
      "text/plain": [
       "[{'explicit_inform_slots': {'Cough': True,\n",
       "   'Chest tightness and shortness of breath': False},\n",
       "  'implicit_inform_slots': {'Pain behind the breastbone': False,\n",
       "   'Chest tightness': False,\n",
       "   'Hemoptysis': True,\n",
       "   'Expectoration': True},\n",
       "  'disease_tag': 'Esophagitis'}]"
      ]
     },
     "execution_count": 4,
     "metadata": {},
     "output_type": "execute_result"
    }
   ],
   "source": [
    "train_data[0:1]"
   ]
  },
  {
   "cell_type": "code",
   "execution_count": 5,
   "metadata": {},
   "outputs": [],
   "source": [
    "#print test data information\n",
    "with open('test.pk','rb') as f:\n",
    "    test_data = pickle.load(f)"
   ]
  },
  {
   "cell_type": "code",
   "execution_count": 6,
   "metadata": {},
   "outputs": [
    {
     "name": "stdout",
     "output_type": "stream",
     "text": [
      "<class 'list'> 239\n"
     ]
    }
   ],
   "source": [
    "test_data_type = type(test_data)\n",
    "test_data_length = len(test_data)\n",
    "print(test_data_type, test_data_length)"
   ]
  },
  {
   "cell_type": "code",
   "execution_count": 7,
   "metadata": {},
   "outputs": [
    {
     "data": {
      "text/plain": [
       "[{'explicit_inform_slots': {'Pharynx discomfort': True, 'Acid reflux': True},\n",
       "  'implicit_inform_slots': {'Cough': True, 'Stomach ache': True},\n",
       "  'disease_tag': 'Esophagitis'}]"
      ]
     },
     "execution_count": 7,
     "metadata": {},
     "output_type": "execute_result"
    }
   ],
   "source": [
    "test_data[0:1]"
   ]
  },
  {
   "cell_type": "code",
   "execution_count": 8,
   "metadata": {},
   "outputs": [],
   "source": [
    "# print development data information\n",
    "with open('dev.pk','rb') as f:\n",
    "    dev_data = pickle.load(f)"
   ]
  },
  {
   "cell_type": "code",
   "execution_count": 9,
   "metadata": {},
   "outputs": [
    {
     "name": "stdout",
     "output_type": "stream",
     "text": [
      "<class 'list'> 239\n"
     ]
    }
   ],
   "source": [
    "dev_data_type = type(dev_data)\n",
    "dev_data_length = len(dev_data)\n",
    "print(dev_data_type, dev_data_length)"
   ]
  },
  {
   "cell_type": "code",
   "execution_count": 10,
   "metadata": {},
   "outputs": [
    {
     "data": {
      "text/plain": [
       "[{'explicit_inform_slots': {'Burning sensation behind the breastbone': True},\n",
       "  'implicit_inform_slots': {'Nausea': False,\n",
       "   'Acid reflux': False,\n",
       "   'Stomach ache': True},\n",
       "  'disease_tag': 'Esophagitis'}]"
      ]
     },
     "execution_count": 10,
     "metadata": {},
     "output_type": "execute_result"
    }
   ],
   "source": [
    "dev_data[0:1]"
   ]
  },
  {
   "cell_type": "code",
   "execution_count": 11,
   "metadata": {},
   "outputs": [
    {
     "name": "stdout",
     "output_type": "stream",
     "text": [
      "Unique diseases count: 12\n",
      "Unique explicit symptoms count: 94\n",
      "Unique implicit symptoms count: 86\n"
     ]
    }
   ],
   "source": [
    "import pandas as pd\n",
    "\n",
    "unique_diseases = set()\n",
    "unique_explicit_symptoms = set()\n",
    "unique_implicit_symptoms = set()\n",
    "\n",
    "# process the train data\n",
    "for item in test_data:\n",
    "    unique_diseases.add(item['disease_tag'])\n",
    "\n",
    "    explicit_inform_symptoms = list(item['explicit_inform_slots'].keys())\n",
    "    unique_explicit_symptoms.update(explicit_inform_symptoms)\n",
    "\n",
    "    implicit_inform_symptoms = list(item['implicit_inform_slots'].keys())\n",
    "    unique_implicit_symptoms.update(implicit_inform_symptoms)\n",
    "\n",
    "num_unique_diseases = len(unique_diseases)\n",
    "num_unique_explicit_symptoms = len(unique_explicit_symptoms)\n",
    "num_unique_implicit_symptoms = len(unique_implicit_symptoms)\n",
    "\n",
    "print(f\"Unique diseases count: {num_unique_diseases}\")\n",
    "print(f\"Unique explicit symptoms count: {num_unique_explicit_symptoms}\")\n",
    "print(f\"Unique implicit symptoms count: {num_unique_implicit_symptoms}\")"
   ]
  }
 ],
 "metadata": {
  "kernelspec": {
   "display_name": "Python 3 (ipykernel)",
   "language": "python",
   "name": "python3"
  },
  "language_info": {
   "codemirror_mode": {
    "name": "ipython",
    "version": 3
   },
   "file_extension": ".py",
   "mimetype": "text/x-python",
   "name": "python",
   "nbconvert_exporter": "python",
   "pygments_lexer": "ipython3",
   "version": "3.11.5"
  }
 },
 "nbformat": 4,
 "nbformat_minor": 4
}
