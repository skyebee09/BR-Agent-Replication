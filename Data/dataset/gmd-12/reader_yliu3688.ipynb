{
 "cells": [
  {
   "cell_type": "code",
   "execution_count": 1,
   "metadata": {},
   "outputs": [],
   "source": [
    "import pickle\n",
    "import pandas as pd"
   ]
  },
  {
   "cell_type": "code",
   "execution_count": 2,
   "metadata": {},
   "outputs": [],
   "source": [
    "#print train data information\n",
    "with open('gmd.pk','rb') as f:\n",
    "    gmd_data = pickle.load(f)"
   ]
  },
  {
   "cell_type": "code",
   "execution_count": 3,
   "metadata": {},
   "outputs": [
    {
     "name": "stdout",
     "output_type": "stream",
     "text": [
      "<class 'dict'> 3\n"
     ]
    }
   ],
   "source": [
    "gmd_data_type = type(gmd_data)\n",
    "gmd_data_length = len(gmd_data)\n",
    "print(gmd_data_type, gmd_data_length)\n",
    "#list(gmd_data.items())[0:1]"
   ]
  },
  {
   "cell_type": "code",
   "execution_count": 6,
   "metadata": {},
   "outputs": [
    {
     "name": "stdout",
     "output_type": "stream",
     "text": [
      "data set data counts： {'train': 1912, 'test': 239, 'dev': 239}\n"
     ]
    }
   ],
   "source": [
    "# get the quantity for different data set\n",
    "data_counts = {key: len(value) for key, value in gmd_data.items()}\n",
    "print(\"data set data counts：\", data_counts)"
   ]
  },
  {
   "cell_type": "code",
   "execution_count": 9,
   "metadata": {},
   "outputs": [
    {
     "name": "stdout",
     "output_type": "stream",
     "text": [
      "Train diseases counts: 12\n",
      "Explicit symptoms counts: 115\n",
      "Implicit symptoms counts: 115\n"
     ]
    }
   ],
   "source": [
    "#get the counts for symptoms, and diseases\n",
    "explicit_symptoms = set()\n",
    "implicit_symptoms = set()\n",
    "diseases = set()\n",
    "\n",
    "train_data = gmd_data.get('train', [])\n",
    "\n",
    "for record in train_data:\n",
    "    diseases.add(record['disease_tag'])\n",
    "    explicit_symptoms.update(record['explicit_inform_slots'].keys())\n",
    "    implicit_symptoms.update(record['implicit_inform_slots'].keys())\n",
    "\n",
    "print(\"Train diseases counts:\", len(diseases))\n",
    "#print(\"Train diseases:\", diseases)\n",
    "print(\"Explicit symptoms counts:\", len(explicit_symptoms))\n",
    "#print(\"Explicit symptoms:\", explicit_symptoms)\n",
    "print(\"Implicit symptoms counts:\", len(implicit_symptoms))\n",
    "#print(\"Implicit symptoms:\", implicit_symptoms)"
   ]
  },
  {
   "cell_type": "code",
   "execution_count": null,
   "metadata": {},
   "outputs": [],
   "source": []
  }
 ],
 "metadata": {
  "kernelspec": {
   "display_name": "Python 3 (ipykernel)",
   "language": "python",
   "name": "python3"
  },
  "language_info": {
   "codemirror_mode": {
    "name": "ipython",
    "version": 3
   },
   "file_extension": ".py",
   "mimetype": "text/x-python",
   "name": "python",
   "nbconvert_exporter": "python",
   "pygments_lexer": "ipython3",
   "version": "3.11.5"
  }
 },
 "nbformat": 4,
 "nbformat_minor": 4
}
